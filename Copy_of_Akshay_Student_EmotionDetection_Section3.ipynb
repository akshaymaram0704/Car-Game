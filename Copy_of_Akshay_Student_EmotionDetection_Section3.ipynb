{
  "nbformat": 4,
  "nbformat_minor": 0,
  "metadata": {
    "colab": {
      "provenance": [],
      "include_colab_link": true
    },
    "kernelspec": {
      "name": "python3",
      "display_name": "Python 3"
    },
    "accelerator": "GPU"
  },
  "cells": [
    {
      "cell_type": "markdown",
      "metadata": {
        "id": "view-in-github",
        "colab_type": "text"
      },
      "source": [
        "<a href=\"https://colab.research.google.com/github/akshaymaram0704/Car-Game/blob/main/Copy_of_Akshay_Student_EmotionDetection_Section3.ipynb\" target=\"_parent\"><img src=\"https://colab.research.google.com/assets/colab-badge.svg\" alt=\"Open In Colab\"/></a>"
      ]
    },
    {
      "cell_type": "markdown",
      "metadata": {
        "id": "TiM6gYg0nhkY"
      },
      "source": [
        "<font color=\"#de3023\"><h1><b>REMINDER MAKE A COPY OF THIS NOTEBOOK, DO NOT EDIT</b></h1></font>"
      ]
    },
    {
      "cell_type": "code",
      "metadata": {
        "id": "Qhr-G_92H2Bc",
        "colab": {
          "base_uri": "https://localhost:8080/"
        },
        "outputId": "9a5e47e0-7874-451d-a70d-b4611d05c02a"
      },
      "source": [
        "#@title Run this to download data and prepare our environment!  { display-mode: \"form\" }\n",
        "\n",
        "import cv2\n",
        "import dlib\n",
        "import pickle\n",
        "import warnings\n",
        "import numpy as np\n",
        "import pandas as pd\n",
        "import seaborn as sns\n",
        "import itertools\n",
        "\n",
        "import urllib.request\n",
        "\n",
        "from sklearn import metrics\n",
        "from scipy.spatial import distance\n",
        "from sklearn.metrics import accuracy_score\n",
        "from matplotlib import pyplot as plt\n",
        "from tqdm import tqdm,tqdm_pandas\n",
        "from sklearn.preprocessing import StandardScaler\n",
        "from sklearn.model_selection import train_test_split\n",
        "\n",
        "import re\n",
        "import keras\n",
        "\n",
        "from keras.models import Sequential\n",
        "from tensorflow.keras.utils import to_categorical\n",
        "from tensorflow.keras.optimizers import Adam, SGD\n",
        "from keras.layers import Dense, Dropout, Activation, Flatten\n",
        "from keras.layers import Conv2D, MaxPooling2D, BatchNormalization\n",
        "from keras.losses import categorical_crossentropy\n",
        "from keras.regularizers import l2\n",
        "from keras.callbacks import EarlyStopping, ModelCheckpoint\n",
        "from keras.models import load_model\n",
        "\n",
        "# grab tools from our tensorflow and keras toolboxes!\n",
        "import tensorflow as tf\n",
        "from keras.models import Sequential\n",
        "from keras.layers import Activation, Dropout, Flatten, Dense\n",
        "from keras import optimizers\n",
        "\n",
        "warnings.filterwarnings(\"ignore\")\n",
        "def model_to_string(model):\n",
        "    import re\n",
        "    stringlist = []\n",
        "    model.summary(print_fn=lambda x: stringlist.append(x))\n",
        "    sms = \"\\n\".join(stringlist)\n",
        "    sms = re.sub('_\\d\\d\\d','', sms)\n",
        "    sms = re.sub('_\\d\\d','', sms)\n",
        "    sms = re.sub('_\\d','', sms)\n",
        "    return sms\n",
        "\n",
        "###Getting the csv data loaded\n",
        "!wget -q --show-progress \"https://storage.googleapis.com/inspirit-ai-data-bucket-1/Data/AI%20Scholars/Sessions%206%20-%2010%20(Projects)/Project%20-%20Emotion%20Detection/fer2013_5.csv\"\n",
        "\n",
        "###Getting the Dlib Shape predictor!\n",
        "!wget -q --show-progress \"https://storage.googleapis.com/inspirit-ai-data-bucket-1/Data/AI%20Scholars/Sessions%206%20-%2010%20(Projects)/Project%20-%20Emotion%20Detection/shape_predictor_68_face_landmarks.dat\"\n",
        "\n",
        "###Getting the Xpure loaded\n",
        "!wget -q --show-progress \"https://storage.googleapis.com/inspirit-ai-data-bucket-1/Data/AI%20Scholars/Sessions%206%20-%2010%20(Projects)/Project%20-%20Emotion%20Detection/pureX.npy\"\n",
        "\n",
        "###Getting the Xdata loaded\n",
        "!wget -q --show-progress -O ./dataX.npy \"https://storage.googleapis.com/inspirit-ai-data-bucket-1/Data/AI%20Scholars/Sessions%206%20-%2010%20(Projects)/Project%20-%20Emotion%20Detection/dataX_edited.npy\"\n",
        "\n",
        "###Getting the Ydata loaded\n",
        "!wget -q --show-progress \"https://storage.googleapis.com/inspirit-ai-data-bucket-1/Data/AI%20Scholars/Sessions%206%20-%2010%20(Projects)/Project%20-%20Emotion%20Detection/dataY.npy\"\n",
        "\n",
        "print (\"Data Downloaded!\")\n",
        "\n",
        "'''\n",
        "Plots the confusion Matrix and saves it\n",
        "'''\n",
        "def plot_confusion_matrix(y_true,y_predicted):\n",
        "  cm = metrics.confusion_matrix(y_true, y_predicted)\n",
        "  print (\"Plotting the Confusion Matrix\")\n",
        "  labels = list(label_map.values())\n",
        "  df_cm = pd.DataFrame(cm,index = labels,columns = labels)\n",
        "  fig = plt.figure()\n",
        "  res = sns.heatmap(df_cm, annot=True,cmap='Blues', fmt='g')\n",
        "  plt.yticks([0.5,1.5,2.5,3.5,4.5], labels,va='center')\n",
        "  plt.title('Confusion Matrix - TestData')\n",
        "  plt.ylabel('True label')\n",
        "  plt.xlabel('Predicted label')\n",
        "\n",
        "  plt.show()\n",
        "  plt.close()\n",
        "\n",
        "def plot_graphs(history, best):\n",
        "\n",
        "  plt.figure(figsize=[10,4])\n",
        "  # summarize history for accuracy\n",
        "  plt.subplot(121)\n",
        "  plt.plot(history.history['accuracy'])\n",
        "  plt.plot(history.history['val_accuracy'])\n",
        "  plt.title('model accuracy across training\\n best accuracy of %.02f'%best[1])\n",
        "  plt.ylabel('accuracy')\n",
        "  plt.xlabel('epoch')\n",
        "  plt.legend(['train', 'test'], loc='upper left')\n",
        "\n",
        "  # summarize history for loss\n",
        "  plt.subplot(122)\n",
        "  plt.plot(history.history['loss'])\n",
        "  plt.plot(history.history['val_loss'])\n",
        "  plt.title('model loss across training\\n best loss of %.02f'%best[0])\n",
        "  plt.ylabel('loss')\n",
        "  plt.xlabel('epoch')\n",
        "  plt.legend(['train', 'test'], loc='upper left')\n",
        "  plt.show()\n",
        "\n",
        "#Integer to Label Mapping\n",
        "label_map = {\"0\":\"ANGRY\",\"1\":\"HAPPY\",\"2\":\"SAD\",\"3\":\"SURPRISE\",\"4\":\"NEUTRAL\"}\n",
        "\n",
        "\n",
        "#Load the 68 face Landmark file\n",
        "predictor = dlib.shape_predictor('./shape_predictor_68_face_landmarks.dat')\n",
        "\"\"\"\n",
        "Returns facial landmarks for the given input image path\n",
        "\"\"\"\n",
        "def get_landmarks(image):\n",
        "\n",
        "\n",
        "  #:type image : cv2 object\n",
        "  #:rtype landmarks : list of tuples where each tuple represents\n",
        "  #                  the x and y co-ordinates of facial keypoints\n",
        "\n",
        "  #Bounding Box co-ordinates around the face(Training data is 48*48(cropped faces))\n",
        "  rects = [dlib.rectangle(left=1, top=1, right=47, bottom=47)]\n",
        "\n",
        "  #Read Image using OpenCV\n",
        "  #image = cv2.imread(image_path)\n",
        "  #Detect the Faces within the image\n",
        "  landmarks = [(p.x, p.y) for p in predictor(image, rects[0]).parts()]\n",
        "  return image,landmarks\n",
        "\n",
        "\"\"\"\n",
        "Display image with its Facial Landmarks\n",
        "\"\"\"\n",
        "def image_landmarks(image,face_landmarks):\n",
        "  \"\"\"\n",
        "  :type image_path : str\n",
        "  :type face_landmarks : list of tuples where each tuple represents\n",
        "                     the x and y co-ordinates of facial keypoints\n",
        "  :rtype : None\n",
        "  \"\"\"\n",
        "  radius = -4\n",
        "  circle_thickness = 1\n",
        "  image_copy = image.copy()\n",
        "  for (x, y) in face_landmarks:\n",
        "    cv2.circle(image_copy, (x, y), circle_thickness, (255,0,0), radius)\n",
        "\n",
        "  plt.imshow(image_copy, interpolation='nearest')\n",
        "  plt.show()\n",
        "\n",
        "\"\"\"\n",
        "Computes euclidean distance between 68 Landmark Points for our features\n",
        "e_dist is a list of features that will go into our model.\n",
        "Each feature is a distance between two landmark points, and every pair of points\n",
        "must have a feature.\n",
        "\"\"\"\n",
        "\n",
        "def landmarks_edist(face_landmarks):\n",
        "    e_dist = []\n",
        "    for i,j  in itertools.combinations(range(68), 2):\n",
        "      e_dist.append(distance.euclidean(face_landmarks[i],face_landmarks[j]))\n",
        "    return e_dist\n",
        "\n",
        "def compare_learning(mlp, lm, cnn, vgg): # there's one model missing: MLP from pixels\n",
        "\n",
        "  # summarize history for accuracy\n",
        "  plt.plot(vgg.history['val_accuracy'],)\n",
        "  plt.plot(cnn.history['val_accuracy'])\n",
        "  plt.plot(mlp.history['val_accuracy'],)\n",
        "  plt.plot(lm.history['val_accuracy'])\n",
        "  plt.ylabel('validitation accuracy')\n",
        "  plt.xlabel('epoch')\n",
        "  plt.legend(['cnn_transfer', 'cnn_scratch', 'mlp_pixels', 'mlp_landmarks'], bbox_to_anchor=[1,1])\n",
        "  plt.xticks(range(0, epochs+1, 5), range(0, epochs+1, 5))\n",
        "  plt.show()\n"
      ],
      "execution_count": null,
      "outputs": [
        {
          "output_type": "stream",
          "name": "stdout",
          "text": [
            "fer2013_5.csv.2     100%[===================>] 159.97M  74.8MB/s    in 2.1s    \n",
            "shape_predictor_68_ 100%[===================>]  95.08M   148MB/s    in 0.6s    \n",
            "pureX.npy.2         100%[===================>]  43.95M   279MB/s    in 0.2s    \n",
            "./dataX.npy         100%[===================>] 347.59M  86.2MB/s    in 4.0s    \n",
            "dataY.npy.2         100%[===================>] 156.38K  --.-KB/s    in 0.001s  \n",
            "Data Downloaded!\n"
          ]
        }
      ]
    },
    {
      "cell_type": "code",
      "metadata": {
        "id": "jcpypKzI-ol0",
        "cellView": "form",
        "colab": {
          "base_uri": "https://localhost:8080/"
        },
        "outputId": "3dbec519-e37e-4c7b-8c57-4e9863324905"
      },
      "source": [
        "#@title If the previous code cell fails to download the data properly, please run this.\n",
        "import cv2\n",
        "import dlib\n",
        "import pickle\n",
        "import warnings\n",
        "import numpy as np\n",
        "import pandas as pd\n",
        "import seaborn as sns\n",
        "import urllib.request\n",
        "from sklearn import metrics\n",
        "from scipy.spatial import distance\n",
        "from matplotlib import pyplot as plt\n",
        "from sklearn.decomposition import PCA\n",
        "from sklearn.preprocessing import StandardScaler\n",
        "from sklearn.linear_model import LogisticRegression\n",
        "from sklearn.tree import DecisionTreeClassifier\n",
        "from sklearn.neighbors import KNeighborsClassifier\n",
        "from sklearn.model_selection import train_test_split\n",
        "import io\n",
        "\n",
        "###Getting the csv data loaded\n",
        "!wget -q --show-progress \"https://storage.googleapis.com/inspirit-ai-data-bucket-1/Data/AI%20Scholars/Sessions%206%20-%2010%20(Projects)/Project%20-%20Emotion%20Detection/fer2013_5.csv\"\n",
        "\n",
        "###Getting the Dlib Shape predictor!\n",
        "!wget -q --show-progress \"https://storage.googleapis.com/inspirit-ai-data-bucket-1/Data/AI%20Scholars/Sessions%206%20-%2010%20(Projects)/Project%20-%20Emotion%20Detection/shape_predictor_68_face_landmarks.dat\"\n",
        "\n",
        "###Getting the Xpure loaded\n",
        "!wget -q --show-progress \"https://storage.googleapis.com/inspirit-ai-data-bucket-1/Data/AI%20Scholars/Sessions%206%20-%2010%20(Projects)/Project%20-%20Emotion%20Detection/pureX.npy\"\n",
        "\n",
        "###Getting the Xdata loaded\n",
        "!wget -q --show-progress \"https://storage.googleapis.com/inspirit-ai-data-bucket-1/Data/AI%20Scholars/Sessions%206%20-%2010%20(Projects)/Project%20-%20Emotion%20Detection/dataX_edited.npy\"\n",
        "\n",
        "###Getting the Ydata loaded\n",
        "!wget -q --show-progress \"https://storage.googleapis.com/inspirit-ai-data-bucket-1/Data/AI%20Scholars/Sessions%206%20-%2010%20(Projects)/Project%20-%20Emotion%20Detection/dataY.npy\"\n",
        "\n",
        "print (\"Data Downloaded!\")"
      ],
      "execution_count": null,
      "outputs": [
        {
          "output_type": "stream",
          "name": "stdout",
          "text": [
            "fer2013_5.csv.3     100%[===================>] 159.97M   189MB/s    in 0.8s    \n",
            "shape_predictor_68_ 100%[===================>]  95.08M   215MB/s    in 0.4s    \n",
            "pureX.npy.3         100%[===================>]  43.95M   146MB/s    in 0.3s    \n",
            "dataX_edited.npy.1  100%[===================>] 347.59M   156MB/s    in 2.2s    \n",
            "dataY.npy.3         100%[===================>] 156.38K  --.-KB/s    in 0.001s  \n",
            "Data Downloaded!\n"
          ]
        }
      ]
    },
    {
      "cell_type": "markdown",
      "metadata": {
        "id": "EIrowe2Atd1W"
      },
      "source": [
        "In this notebook we'll be:\n",
        "1.   Understanding and Building Neural Networks\n",
        "2.   Applying Neural Networks to Predict Emotions\n",
        "3.   Implementing CNNs for Emotion Detection\n",
        "4.   Implementing Transfer Learning\n",
        "\n"
      ]
    },
    {
      "cell_type": "markdown",
      "metadata": {
        "id": "xq10yh_OuVlg"
      },
      "source": [
        "#Understanding and building Neural Networks"
      ]
    },
    {
      "cell_type": "markdown",
      "metadata": {
        "id": "OOfhabJ_4hvE"
      },
      "source": [
        "A neural network is a series of algorithms that endeavors to recognize underlying relationships in a set of data through a process that mimics the way the human brain operates. Basically, the neural network algorithm helps computers think and learn like humans.\n",
        "\n",
        "The whole idea of artificial neural network is based on the concept of the structure and functions of a human brain. A human brain consists of neurons that process and transmit information between themselves."
      ]
    },
    {
      "cell_type": "markdown",
      "metadata": {
        "id": "4DcLenvXu7th"
      },
      "source": [
        "### Why try neural networks?"
      ]
    },
    {
      "cell_type": "markdown",
      "metadata": {
        "id": "s77Fm2CbvZi7"
      },
      "source": [
        "Our Baseline model performed at ~50 %\n",
        "\n",
        "Human accuracy for fer2013 is around 65 %, suggesting that we could do better!\n",
        "\n",
        "What we require now is a model that can capture more complicated patterns. One class of models that is able to do this and has been very effective for doing this for images are neural networks.\n",
        "\n",
        "\n",
        "\n"
      ]
    },
    {
      "cell_type": "markdown",
      "metadata": {
        "id": "ZB_uPibnv2UG"
      },
      "source": [
        "## Instructor-Led Discussion: Building networks\n",
        "\n",
        "To build neural networks in Python, we use the packages known as `tensorflow` and `keras`. Let's learn how to build and use these networks!\n",
        "\n",
        "Tensorflow calls the various machine learning algorithms that it uses 'models'.  These 'models' are 'learning machines.''\n",
        "\n",
        "1. We **teach** models by **training** them on **data**.\n",
        "2. We **use** models to **predict** things.\n",
        "\n",
        "Here is example code for building a Tensorflow model with Keras:"
      ]
    },
    {
      "cell_type": "markdown",
      "metadata": {
        "id": "RUtJ7_FkkPr-"
      },
      "source": [
        "The things you'll want to pay most attention to as we go over how to build networks are:\n",
        "1. The number of neurons\n",
        "2. The activation of the neurons\n",
        "3. The losses and metrics\n",
        "\n",
        "Everything else will work with the default settings!\n",
        "\n",
        "Let's walk though what each of these lines of code means!\n",
        "\n",
        "**1. Specify model**\n",
        "\n",
        "```\n",
        "model = Sequential()\n",
        "```\n",
        "In this line of code, we build our network where the information flows from LEFT to RIGHT through the network in ONE DIRECTION as opposed to multiple directions. Neurons on the right never pass information to neurons on the left of it.\n",
        "\n",
        "\n",
        "**2. Add layers to the network**\n",
        "```\n",
        "model.add(Dense(4,input_shape = (3,), activation = 'relu'))\n",
        "```\n",
        "In this line of code, we `add` a `layer` of neurons to our network.\n",
        "\n",
        "This layer consists of 4 neurons. Each neuron is DENSE and connects to all of the previous layer's inputs and all of the subsequent layers outputs. We specify that there are 3 inputs here.\n",
        "\n",
        "We also specify what kind of output the neuron will give. If you want the neuron to output a number between 0 and 1 (like a probability!) you would use 'softmax' or 'sigmoid'. If you want the neuron to output any number, you can use 'linear'! You'll also often see 'relu', which is when a neuron will only output positive numbers.\n",
        "\n",
        "```\n",
        "model.add(Dense(1, activation = 'linear'))\n",
        "```\n",
        "This code adds ANOTHER layer to the network that has 1 neuron. This one neuron is used to predict a continuous value!\n",
        "\n",
        "**3. Turn the model on by compiling it**\n",
        "\n",
        "After having built the network, we want to train and use it, so we have to 'turn it on' and 'compile' it. To turn it on, we have to specify at the very least, a loss, an optimizer, and some ways of evaluating the model (metrics). Don't worry too much about what this means! Just know that this is necessary.\n",
        "\n",
        "```\n",
        "model.compile(loss='mean_squared_error',\n",
        "               optimizer = 'adam',\n",
        "               metrics = ['accuracy'])\n",
        "  ```\n",
        "  \n",
        "  Once we've created our network, we can use it very simply! Just like we did with `sklearn`, we define our input data (x), the true predictions from that data (y), and then train our model with `fit`.\n",
        "\n",
        "```\n",
        "model.fit(x, y)\n",
        "```\n",
        "\n",
        "To use the model, you can use it to predict something with:\n",
        "```\n",
        "y = model.predict_classes(x)\n",
        "```\n",
        "\n"
      ]
    },
    {
      "cell_type": "markdown",
      "metadata": {
        "id": "FOpGG21Cwpgu"
      },
      "source": [
        "### For reference, this is a lot like the kind of models we've been training with scikit learn.\n",
        "\n",
        "The big difference is that defining the model is more involved. We can look at an example from KNN:\n",
        "\n",
        "```\n",
        "# define the model instance\n",
        "knn = KNeighborsClassifier()\n",
        "\n",
        "# train model with X_train\n",
        "knn.fit(X_train, y_train)\n",
        "\n",
        "# predict testing data\n",
        "y_predict = knn.predict(X_test)\n",
        "\n",
        "```"
      ]
    },
    {
      "cell_type": "markdown",
      "metadata": {
        "id": "YJXxWYXcwoGn"
      },
      "source": [
        "##Exercise: Coding a 2 hidden layer MLP\n",
        "\n",
        "Just as we went over last week, neural networks look something like this. This architecture is called the Multilayer Perceptron, or MLP for short, which has at least 3 layers (one input layer, one or more hidden layers, and one output layer):\n",
        "\n",
        "![A 2 layer neural network](https://cdn-images-1.medium.com/max/1600/1*DW0Ccmj1hZ0OvSXi7Kz5MQ.jpeg)\n",
        "\n",
        "Each orange and blue node is a neuron. The network itself is composed of a bunch of neurons that talk to each other and eventually give us a prediction. Let's get a bit more concrete with this..."
      ]
    },
    {
      "cell_type": "markdown",
      "metadata": {
        "id": "2MamYyRf16Ii"
      },
      "source": [
        "### How can we build this network above? Fill in the ___ 's below!"
      ]
    },
    {
      "cell_type": "code",
      "metadata": {
        "id": "oG6SDDQIk9PG"
      },
      "source": [
        "# First, we initialize our model\n",
        "tmp_model = Sequential()\n",
        "\n",
        "# then we add a \"Dense\" (i.e. fully connected) layer\n",
        "tmp_model.add(Dense(7, input_shape=(5,), activation = 'relu')) # for the first layer we specify the input dimensions\n",
        "\n",
        "# then we have to add another layer\n",
        "tmp_model.add(Dense(7, activation = 'relu'))\n",
        "\n",
        "# we end by defining the output layer, which has the number of dimensions of the predictions we're making\n",
        "tmp_model.add(Dense(4, activation = 'softmax'))\n",
        "\n",
        "# we finalize the model by \"compiling\" it and defining some other hyperparameters\n",
        "tmp_model.compile(loss='categorical_crossentropy', optimizer='adam', metrics=['accuracy'])"
      ],
      "execution_count": null,
      "outputs": []
    },
    {
      "cell_type": "code",
      "source": [
        "#@title Run this to test if your model is right!\n",
        "# First, we initialize our model\n",
        "tmp_model_answer = Sequential()\n",
        "\n",
        "# then we add a \"Dense\" (i.e. fully connected) layer\n",
        "tmp_model_answer.add(Dense(7, input_shape=(5,), activation = 'relu')) # for the first layer we specify the input dimensions\n",
        "\n",
        "# then we have to add another layer\n",
        "tmp_model_answer.add(Dense(7, activation = 'relu'))\n",
        "\n",
        "# we end by defining the output layer, which has the number of dimensions of the predictions we're making\n",
        "tmp_model_answer.add(Dense(4, activation = 'softmax'))\n",
        "\n",
        "# we finalize the model by \"compiling\" it and defining some other hyperparameters\n",
        "tmp_model_answer.compile(loss='categorical_crossentropy', optimizer='adam', metrics=['accuracy'])\n",
        "\n",
        "\n",
        "tmp_model_config = tmp_model.get_config()\n",
        "\n",
        "del tmp_model_config[\"name\"]\n",
        "for layer in tmp_model_config[\"layers\"]:\n",
        "  del layer[\"config\"][\"name\"]\n",
        "\n",
        "tmp_model_answer_config = tmp_model_answer.get_config()\n",
        "\n",
        "del tmp_model_answer_config[\"name\"]\n",
        "for layer in tmp_model_answer_config[\"layers\"]:\n",
        "  del layer[\"config\"][\"name\"]\n",
        "\n",
        "if tmp_model_answer_config == tmp_model_config:\n",
        "  print('Good job! Your model worked')\n",
        "else:\n",
        "  print('Please check your code again!')"
      ],
      "metadata": {
        "cellView": "form",
        "id": "nNv2OIREeIzV",
        "colab": {
          "base_uri": "https://localhost:8080/"
        },
        "outputId": "895cc751-50c9-464f-b633-cbe330b88414"
      },
      "execution_count": null,
      "outputs": [
        {
          "output_type": "stream",
          "name": "stdout",
          "text": [
            "Good job! Your model worked\n"
          ]
        }
      ]
    },
    {
      "cell_type": "markdown",
      "metadata": {
        "id": "-rrqPkJWVLOY"
      },
      "source": [
        "## Exercise: Building our custom neural network"
      ]
    },
    {
      "cell_type": "markdown",
      "metadata": {
        "id": "25DoFvA0VWnq"
      },
      "source": [
        "###Keypoints"
      ]
    },
    {
      "cell_type": "markdown",
      "metadata": {
        "id": "tchJVYOTVZAh"
      },
      "source": [
        "We will build a simple 3-layer network for our first model!\n",
        "\n",
        "\n",
        "For our model, we have as our layers:\n",
        "* Input Layer:  However many inputs there are!\n",
        "* Layer 1 (Hidden): 1024 neurons that are activated by `'relu'` and weights are intialized using `kernel_initializer='glorot_normal'`. Specify the input shape as `(2278,)`.\n",
        "* Layer 2 (Hidden): 512 neurons that are activated by `'relu'` and weights are intialized using `kernel_initializer='glorot_normal'`\n",
        "* Layer 3 (Output): 5 neurons that should have an appropriate activation.\n",
        "* We will compile with the `optimizer = SGD(learning_rate=0.001)` optimizer\n",
        "\n",
        "As a hint for the output activation and the compilation loss, we know that:\n",
        "* Multi-class classification problems require an output activation of `'softmax'` and a loss of `'categorical_crossentropy'`\n",
        "\n",
        "\n"
      ]
    },
    {
      "cell_type": "markdown",
      "metadata": {
        "id": "sv3U4FxbVyfs"
      },
      "source": [
        "###Build your Model (call it `perceptron`)"
      ]
    },
    {
      "cell_type": "code",
      "metadata": {
        "id": "WJh4klMtV3Q_"
      },
      "source": [
        "# First, we initialize our model\n",
        "perceptron = Sequential()\n",
        "\n",
        "# then we add a \"Dense\" (i.e. fully connected) layer\n",
        "perceptron.add(Dense(1024, input_shape=(2278,), activation = 'relu')) # for the first layer we specify the input dimensions\n",
        "\n",
        "# then we have to add another layer\n",
        "perceptron.add(Dense(512, activation = 'relu'))\n",
        "\n",
        "# we end by defining the output layer, which has the number of dimensions of the predictions we're making\n",
        "perceptron.add(Dense(5, activation = 'softmax'))\n",
        "\n",
        "# we finalize the model by \"compiling\" it and defining some other hyperparameters\n",
        "perceptron.compile(loss='categorical_crossentropy', optimizer=SGD(learning_rate = 0.001), metrics=['accuracy'])"
      ],
      "execution_count": null,
      "outputs": []
    },
    {
      "cell_type": "code",
      "metadata": {
        "id": "rWDzNTh9Wm0e",
        "colab": {
          "base_uri": "https://localhost:8080/"
        },
        "outputId": "0f88032b-754f-4a3f-9b56-c1456a880708"
      },
      "source": [
        "#@title Run this to test if your model is right! { display-mode: \"form\" }\n",
        "perceptron_answer = Sequential()\n",
        "perceptron_answer.add(Dense(units = 1024, input_shape = (2278,),kernel_initializer='glorot_normal',activation = 'relu'))\n",
        "perceptron_answer.add(Dense(units = 512,kernel_initializer='glorot_normal' , activation = 'relu'))\n",
        "perceptron_answer.add(Dense(units = 5, activation = 'softmax'))\n",
        "\n",
        "perceptron_answer.compile(\n",
        "    loss='categorical_crossentropy',\n",
        "    optimizer=SGD(learning_rate=0.001),\n",
        "    metrics=['accuracy'])\n",
        "\n",
        "if model_to_string(perceptron) == model_to_string(perceptron_answer):\n",
        "  print('Good job, you specified it correctly!')\n",
        "else:\n",
        "  print('Please check your code again!')"
      ],
      "execution_count": null,
      "outputs": [
        {
          "output_type": "stream",
          "name": "stdout",
          "text": [
            "Good job, you specified it correctly!\n"
          ]
        }
      ]
    },
    {
      "cell_type": "markdown",
      "metadata": {
        "id": "AgQEGSXJueyV"
      },
      "source": [
        "###Keras Neural Network Model Hyperparameters\n",
        "\n",
        "Neural Network performance depends a lot on *how much* they train. As we'll see, they usually get better with more training BUT actually can get worse with too much training. With too much training, our model can get overconfident in its abilities with the training manual (overfitting), and so doesn't actually think (generalize) when it is tested.\n",
        "\n",
        "The  `fit()` function pertain to how the neural networks train. Don't worry too much about the extra options, what really matters for us is that the right data is specified.\n",
        "\n",
        "\n",
        "What are all these options?\n",
        "* `epochs`: how many times the model trains on the entire data set\n",
        "* `batch_size`: number of samples processed at a time\n",
        "* `shuffle`: mixes the training dataset so the model pays better attention to the data and learns better while training\n",
        "* `validation_data`: we request that our model tests itself on the `test_data` after every epoch. **It is essential to use validation data to test for overfitting!**\n",
        "* `callbacks`: With a custom command, we tell our model to save the best version of itself to a model file called `best_dnn_model.h5`.\n"
      ]
    },
    {
      "cell_type": "markdown",
      "metadata": {
        "id": "oeb1iFnZw3W1"
      },
      "source": [
        "#Applying Neural Networks (MLPs) to predicting emotions"
      ]
    },
    {
      "cell_type": "markdown",
      "metadata": {
        "id": "kGdpkyMmqs-G"
      },
      "source": [
        "### Loading and formatting data for all models in notebook"
      ]
    },
    {
      "cell_type": "markdown",
      "metadata": {
        "id": "pf4GspMjAGoE"
      },
      "source": [
        "First, let's try to build a 4-Layer Neural Network  for our training data to achieve accuracy closer to the human accuracy on the dataset (around 65%)\n",
        "\n",
        "We want to identify the key things that we need to design our network.\n",
        "\n",
        "In your group, discuss:\n",
        "\n",
        "* What are our inputs?\n",
        "* What is/are our outputs?\n",
        "\n",
        "How could this look in a neural network diagram?\n",
        "\n",
        "**Show your instructor your diagram once you're done!!**"
      ]
    },
    {
      "cell_type": "markdown",
      "metadata": {
        "id": "G-hJkIeQthKl"
      },
      "source": [
        "##Activity: Train Neural Network on Emotion Dataset"
      ]
    },
    {
      "cell_type": "markdown",
      "metadata": {
        "id": "LDZqO4EMHeSZ"
      },
      "source": [
        "###Set some hyper parameters for all models"
      ]
    },
    {
      "cell_type": "code",
      "metadata": {
        "id": "284_6dNsHiS5"
      },
      "source": [
        "# the number of times we pass all the training data through the model\n",
        "epochs = 20\n",
        "# the number of examples we pass to the model at each time\n",
        "batch_size = 64\n",
        "# the proportion of testing data we set aside (e.g. 10%)\n",
        "test_ratio = .1\n",
        "# the number of emotion categories we have to predict\n",
        "n_labels = 5"
      ],
      "execution_count": null,
      "outputs": []
    },
    {
      "cell_type": "markdown",
      "metadata": {
        "id": "gNJx9QCE8w8p"
      },
      "source": [
        "###Load the original (unprocessed) data saved on Day 2!"
      ]
    },
    {
      "cell_type": "code",
      "metadata": {
        "id": "oG7AIjf3xWBa"
      },
      "source": [
        "# load data\n",
        "dataX_pixels = np.load('pureX.npy')\n",
        "dataY_labels = np.load('dataY.npy')"
      ],
      "execution_count": null,
      "outputs": []
    },
    {
      "cell_type": "markdown",
      "metadata": {
        "id": "7y6HwMAg85jx"
      },
      "source": [
        "### Convert labels to one-hot encoded labels\n",
        "\n",
        "One hot encoding is a representation of categorical variables as binary vectors"
      ]
    },
    {
      "cell_type": "code",
      "metadata": {
        "id": "qA_0acGq9AJN"
      },
      "source": [
        "# convert labels to one hot encoding\n",
        "y_onehot = to_categorical(dataY_labels, len(set(dataY_labels)))\n",
        "\n",
        "# what does this data type look like?"
      ],
      "execution_count": null,
      "outputs": []
    },
    {
      "cell_type": "markdown",
      "source": [
        "<b>Discuss:</b>\n",
        "* What does our `y_onehot` variable look like?\n",
        "* Is it clear how these are two equivalent ways to represent the target?"
      ],
      "metadata": {
        "id": "Cun5Nr3CLkIv"
      }
    },
    {
      "cell_type": "markdown",
      "metadata": {
        "id": "1RodV9eQ71Yz"
      },
      "source": [
        "###Split and Standardize your Data\n",
        "\n"
      ]
    },
    {
      "cell_type": "code",
      "metadata": {
        "id": "cVO4wnTY7rRk"
      },
      "source": [
        "# split Data into Train, Test (90-10)\n",
        "X_train, X_test, y_train, y_test = train_test_split(dataX_pixels, y_onehot, test_size=test_ratio, random_state=42)\n",
        "\n",
        "#### Standardize the data ##########\n",
        "pixel_scaler = StandardScaler()\n",
        "pixel_scaler.fit(X_train)\n",
        "X_train = pixel_scaler.transform(X_train)\n",
        "X_test = pixel_scaler.transform(X_test)"
      ],
      "execution_count": null,
      "outputs": []
    },
    {
      "cell_type": "markdown",
      "metadata": {
        "id": "iaQQkwNsHGSM"
      },
      "source": [
        "## Exercise: Build a simple MLP for emotion detection (call it `mlp_model`)\n"
      ]
    },
    {
      "cell_type": "code",
      "metadata": {
        "id": "QBk3kFJSgQJ0",
        "cellView": "both"
      },
      "source": [
        "# First, we initialize our model\n",
        "mlp_model= Sequential()\n",
        "\n",
        "# then we add a \"Dense\" (i.e. fully connected) layer\n",
        "mlp_model.add(Dense(5120, input_shape=(48**2,), activation = 'relu')) # for the first layer we specify the input dimensions\n",
        "\n",
        "# then we have to add another layer\n",
        "mlp_model.add(Dense(512, activation = 'relu'))\n",
        "\n",
        "# we end by defining the output layer, which has the number of dimensions of the predictions we're making\n",
        "mlp_model.add(Dense(5, activation = 'softmax'))\n",
        "\n",
        "# we finalize the model by \"compiling\" it and defining some other hyperparameters\n",
        "mlp_model.compile(loss='categorical_crossentropy', optimizer=SGD(learning_rate = 0.001), metrics=['accuracy'])"
      ],
      "execution_count": null,
      "outputs": []
    },
    {
      "cell_type": "code",
      "metadata": {
        "id": "IwYofcaXzWVa",
        "colab": {
          "base_uri": "https://localhost:8080/"
        },
        "outputId": "3732034c-f1c8-42e6-df2e-122b2dc92814"
      },
      "source": [
        "# Compiling the model with SGD optimizer and categorical crossentropy loss\n",
        "mlp_model.compile(loss=categorical_crossentropy, optimizer=SGD(learning_rate=0.001), metrics=['accuracy'])\n",
        "\n",
        "#Saves the Best Model Based on Val Loss\n",
        "checkpoint = ModelCheckpoint('best_mlp_model.h5', verbose=1, monitor='val_loss', save_best_only=True,  mode='auto')\n",
        "\n",
        "#training the model\n",
        "mlp_history = mlp_model.fit(X_train, y_train, batch_size=batch_size, epochs=epochs, verbose=1,\n",
        "                            callbacks=[checkpoint], validation_data=(X_test, y_test), shuffle=True)"
      ],
      "execution_count": null,
      "outputs": [
        {
          "output_type": "stream",
          "name": "stdout",
          "text": [
            "Epoch 1/20\n",
            "282/282 [==============================] - ETA: 0s - loss: 1.5475 - accuracy: 0.3080\n",
            "Epoch 1: val_loss improved from inf to 1.49132, saving model to best_mlp_model.h5\n",
            "282/282 [==============================] - 3s 8ms/step - loss: 1.5475 - accuracy: 0.3080 - val_loss: 1.4913 - val_accuracy: 0.3435\n",
            "Epoch 2/20\n",
            "273/282 [============================>.] - ETA: 0s - loss: 1.4342 - accuracy: 0.3863\n",
            "Epoch 2: val_loss improved from 1.49132 to 1.44083, saving model to best_mlp_model.h5\n",
            "282/282 [==============================] - 2s 7ms/step - loss: 1.4324 - accuracy: 0.3874 - val_loss: 1.4408 - val_accuracy: 0.3930\n",
            "Epoch 3/20\n",
            "279/282 [============================>.] - ETA: 0s - loss: 1.3786 - accuracy: 0.4246\n",
            "Epoch 3: val_loss improved from 1.44083 to 1.41342, saving model to best_mlp_model.h5\n",
            "282/282 [==============================] - 3s 11ms/step - loss: 1.3785 - accuracy: 0.4249 - val_loss: 1.4134 - val_accuracy: 0.4060\n",
            "Epoch 4/20\n",
            "278/282 [============================>.] - ETA: 0s - loss: 1.3413 - accuracy: 0.4464\n",
            "Epoch 4: val_loss improved from 1.41342 to 1.39515, saving model to best_mlp_model.h5\n",
            "282/282 [==============================] - 3s 10ms/step - loss: 1.3421 - accuracy: 0.4460 - val_loss: 1.3951 - val_accuracy: 0.4140\n",
            "Epoch 5/20\n",
            "275/282 [============================>.] - ETA: 0s - loss: 1.3125 - accuracy: 0.4649\n",
            "Epoch 5: val_loss improved from 1.39515 to 1.38135, saving model to best_mlp_model.h5\n",
            "282/282 [==============================] - 2s 8ms/step - loss: 1.3110 - accuracy: 0.4660 - val_loss: 1.3813 - val_accuracy: 0.4305\n",
            "Epoch 6/20\n",
            "275/282 [============================>.] - ETA: 0s - loss: 1.2861 - accuracy: 0.4801\n",
            "Epoch 6: val_loss improved from 1.38135 to 1.37206, saving model to best_mlp_model.h5\n",
            "282/282 [==============================] - 2s 7ms/step - loss: 1.2854 - accuracy: 0.4807 - val_loss: 1.3721 - val_accuracy: 0.4275\n",
            "Epoch 7/20\n",
            "275/282 [============================>.] - ETA: 0s - loss: 1.2629 - accuracy: 0.4960\n",
            "Epoch 7: val_loss improved from 1.37206 to 1.36244, saving model to best_mlp_model.h5\n",
            "282/282 [==============================] - 3s 12ms/step - loss: 1.2623 - accuracy: 0.4961 - val_loss: 1.3624 - val_accuracy: 0.4370\n",
            "Epoch 8/20\n",
            "275/282 [============================>.] - ETA: 0s - loss: 1.2409 - accuracy: 0.5076\n",
            "Epoch 8: val_loss improved from 1.36244 to 1.35380, saving model to best_mlp_model.h5\n",
            "282/282 [==============================] - 2s 8ms/step - loss: 1.2406 - accuracy: 0.5074 - val_loss: 1.3538 - val_accuracy: 0.4410\n",
            "Epoch 9/20\n",
            "277/282 [============================>.] - ETA: 0s - loss: 1.2214 - accuracy: 0.5215\n",
            "Epoch 9: val_loss improved from 1.35380 to 1.34307, saving model to best_mlp_model.h5\n",
            "282/282 [==============================] - 2s 7ms/step - loss: 1.2214 - accuracy: 0.5214 - val_loss: 1.3431 - val_accuracy: 0.4515\n",
            "Epoch 10/20\n",
            "278/282 [============================>.] - ETA: 0s - loss: 1.2017 - accuracy: 0.5300\n",
            "Epoch 10: val_loss improved from 1.34307 to 1.34169, saving model to best_mlp_model.h5\n",
            "282/282 [==============================] - 2s 7ms/step - loss: 1.2023 - accuracy: 0.5299 - val_loss: 1.3417 - val_accuracy: 0.4475\n",
            "Epoch 11/20\n",
            "275/282 [============================>.] - ETA: 0s - loss: 1.1848 - accuracy: 0.5431\n",
            "Epoch 11: val_loss improved from 1.34169 to 1.33469, saving model to best_mlp_model.h5\n",
            "282/282 [==============================] - 2s 7ms/step - loss: 1.1854 - accuracy: 0.5426 - val_loss: 1.3347 - val_accuracy: 0.4440\n",
            "Epoch 12/20\n",
            "277/282 [============================>.] - ETA: 0s - loss: 1.1694 - accuracy: 0.5495\n",
            "Epoch 12: val_loss improved from 1.33469 to 1.32603, saving model to best_mlp_model.h5\n",
            "282/282 [==============================] - 3s 12ms/step - loss: 1.1687 - accuracy: 0.5497 - val_loss: 1.3260 - val_accuracy: 0.4600\n",
            "Epoch 13/20\n",
            "280/282 [============================>.] - ETA: 0s - loss: 1.1516 - accuracy: 0.5617\n",
            "Epoch 13: val_loss improved from 1.32603 to 1.32372, saving model to best_mlp_model.h5\n",
            "282/282 [==============================] - 2s 8ms/step - loss: 1.1521 - accuracy: 0.5615 - val_loss: 1.3237 - val_accuracy: 0.4625\n",
            "Epoch 14/20\n",
            "280/282 [============================>.] - ETA: 0s - loss: 1.1359 - accuracy: 0.5693\n",
            "Epoch 14: val_loss improved from 1.32372 to 1.32277, saving model to best_mlp_model.h5\n",
            "282/282 [==============================] - 2s 7ms/step - loss: 1.1368 - accuracy: 0.5692 - val_loss: 1.3228 - val_accuracy: 0.4565\n",
            "Epoch 15/20\n",
            "276/282 [============================>.] - ETA: 0s - loss: 1.1217 - accuracy: 0.5787\n",
            "Epoch 15: val_loss improved from 1.32277 to 1.31562, saving model to best_mlp_model.h5\n",
            "282/282 [==============================] - 2s 7ms/step - loss: 1.1222 - accuracy: 0.5783 - val_loss: 1.3156 - val_accuracy: 0.4660\n",
            "Epoch 16/20\n",
            "275/282 [============================>.] - ETA: 0s - loss: 1.1076 - accuracy: 0.5859\n",
            "Epoch 16: val_loss improved from 1.31562 to 1.30602, saving model to best_mlp_model.h5\n",
            "282/282 [==============================] - 3s 12ms/step - loss: 1.1073 - accuracy: 0.5864 - val_loss: 1.3060 - val_accuracy: 0.4605\n",
            "Epoch 17/20\n",
            "277/282 [============================>.] - ETA: 0s - loss: 1.0927 - accuracy: 0.5971\n",
            "Epoch 17: val_loss improved from 1.30602 to 1.30514, saving model to best_mlp_model.h5\n",
            "282/282 [==============================] - 2s 8ms/step - loss: 1.0931 - accuracy: 0.5968 - val_loss: 1.3051 - val_accuracy: 0.4675\n",
            "Epoch 18/20\n",
            "277/282 [============================>.] - ETA: 0s - loss: 1.0780 - accuracy: 0.6030\n",
            "Epoch 18: val_loss improved from 1.30514 to 1.30189, saving model to best_mlp_model.h5\n",
            "282/282 [==============================] - 2s 8ms/step - loss: 1.0791 - accuracy: 0.6023 - val_loss: 1.3019 - val_accuracy: 0.4665\n",
            "Epoch 19/20\n",
            "275/282 [============================>.] - ETA: 0s - loss: 1.0653 - accuracy: 0.6100\n",
            "Epoch 19: val_loss improved from 1.30189 to 1.29563, saving model to best_mlp_model.h5\n",
            "282/282 [==============================] - 2s 7ms/step - loss: 1.0648 - accuracy: 0.6107 - val_loss: 1.2956 - val_accuracy: 0.4715\n",
            "Epoch 20/20\n",
            "278/282 [============================>.] - ETA: 0s - loss: 1.0506 - accuracy: 0.6181\n",
            "Epoch 20: val_loss improved from 1.29563 to 1.29427, saving model to best_mlp_model.h5\n",
            "282/282 [==============================] - 2s 8ms/step - loss: 1.0512 - accuracy: 0.6179 - val_loss: 1.2943 - val_accuracy: 0.4730\n"
          ]
        }
      ]
    },
    {
      "cell_type": "markdown",
      "metadata": {
        "id": "qF0MmGV8Lm7y"
      },
      "source": [
        "##Neural Network Model Evaluation on pixel inputs"
      ]
    },
    {
      "cell_type": "markdown",
      "metadata": {
        "id": "ORXi0y71t3o8"
      },
      "source": [
        "###Evaluate best model"
      ]
    },
    {
      "cell_type": "code",
      "metadata": {
        "id": "DnjfotXoth4e",
        "colab": {
          "base_uri": "https://localhost:8080/"
        },
        "outputId": "6961128e-0d79-4b1f-c257-3a13b2006be0"
      },
      "source": [
        "mlp_performance = mlp_model.evaluate(X_test, y_test, batch_size=64)"
      ],
      "execution_count": null,
      "outputs": [
        {
          "output_type": "stream",
          "name": "stdout",
          "text": [
            "32/32 [==============================] - 0s 5ms/step - loss: 1.2943 - accuracy: 0.4730\n"
          ]
        }
      ]
    },
    {
      "cell_type": "markdown",
      "metadata": {
        "id": "3vgEP7OnGlR9"
      },
      "source": [
        "###Visualize accuracy and loss over training + display best model's performance"
      ]
    },
    {
      "cell_type": "code",
      "metadata": {
        "id": "ktHNwzn0G73y",
        "colab": {
          "base_uri": "https://localhost:8080/",
          "height": 431
        },
        "outputId": "1cbd8d4b-06cd-4e85-c206-e078756ac947"
      },
      "source": [
        "plot_graphs(mlp_history, mlp_performance);"
      ],
      "execution_count": null,
      "outputs": [
        {
          "output_type": "display_data",
          "data": {
            "text/plain": [
              "<Figure size 1000x400 with 2 Axes>"
            ],
            "image/png": "[encoded data removed]"
          },
          "metadata": {}
        }
      ]
    },
    {
      "cell_type": "markdown",
      "metadata": {
        "id": "oPeyL20OFzjN"
      },
      "source": [
        "###Plot the Confusion Matrix"
      ]
    },
    {
      "cell_type": "code",
      "metadata": {
        "id": "MgkxPwg2F7eL",
        "colab": {
          "base_uri": "https://localhost:8080/",
          "height": 508
        },
        "outputId": "90ee66c5-3d1a-470b-b280-cfcb1032c44c"
      },
      "source": [
        "y_pred_mlp = mlp_model.predict(X_test)\n",
        "y_pred_mlp_classes = np.argmax(y_pred_mlp, axis=1)\n",
        "y_true = np.argmax(y_test,axis=1)\n",
        "plot_confusion_matrix(y_true, y_pred_mlp_classes)"
      ],
      "execution_count": null,
      "outputs": [
        {
          "output_type": "stream",
          "name": "stdout",
          "text": [
            "63/63 [==============================] - 0s 2ms/step\n",
            "Plotting the Confusion Matrix\n"
          ]
        },
        {
          "output_type": "display_data",
          "data": {
            "text/plain": [
              "<Figure size 640x480 with 2 Axes>"
            ],
            "image/png": "[encoded data removed]"
          },
          "metadata": {}
        }
      ]
    },
    {
      "cell_type": "markdown",
      "metadata": {
        "id": "XqLIJTjW0JE_"
      },
      "source": [
        "##Neural Network Model Evaluation on distance inputs\n",
        "\n",
        "We saw yesterday that building a model on the distances between facial landmarks did better than on raw pixel inputs, is this true for these models as well? (Note: we'll use the term LM for landmarks in our variable names)\n",
        "\n",
        "Run the cell below to split and standardize your distance inputs!"
      ]
    },
    {
      "cell_type": "code",
      "metadata": {
        "id": "k-aKmK6e0a4J"
      },
      "source": [
        "#Load the data (Distances between facial Landmarks)\n",
        "dataX_lm = np.load('./dataX.npy')\n",
        "\n",
        "# split Data into Train, Test (90-10)\n",
        "X_train_lm, X_test_lm, y_train_lm, y_test_lm = train_test_split(dataX_lm, y_onehot, test_size=0.1, random_state=42)\n",
        "\n",
        "#### Standardize the data #####\n",
        "lm_scaler = StandardScaler()\n",
        "lm_scaler.fit(X_train_lm)\n",
        "X_train_lm = lm_scaler.transform(X_train_lm)\n",
        "X_test_lm = lm_scaler.transform(X_test_lm)"
      ],
      "execution_count": null,
      "outputs": []
    },
    {
      "cell_type": "markdown",
      "source": [
        "Build your model (call it `lm_model`) below:"
      ],
      "metadata": {
        "id": "R2_Cm8LXs6nz"
      }
    },
    {
      "cell_type": "code",
      "metadata": {
        "id": "OPub4NX31R3q"
      },
      "source": [
        "# First, we initialize our model\n",
        "lm_model= Sequential()\n",
        "\n",
        "# then we add a \"Dense\" (i.e. fully connected) layer\n",
        "lm_model.add(Dense(5120, input_shape=(2278,), activation = 'relu')) # for the first layer we specify the input dimensions\n",
        "\n",
        "# then we have to add another layer\n",
        "lm_model.add(Dense(512, activation = 'relu'))\n",
        "\n",
        "# we end by defining the output layer, which has the number of dimensions of the predictions we're making\n",
        "lm_model.add(Dense(5, activation = 'softmax'))\n",
        "\n",
        "# we finalize the model by \"compiling\" it and defining some other hyperparameters\n",
        "lm_model.compile(loss='categorical_crossentropy', optimizer=SGD(learning_rate = 0.001), metrics=['accuracy'])"
      ],
      "execution_count": null,
      "outputs": []
    },
    {
      "cell_type": "code",
      "metadata": {
        "id": "_QEUcTxh7Ara",
        "colab": {
          "base_uri": "https://localhost:8080/"
        },
        "outputId": "db8f1cb5-fe20-4377-9552-27cd230a9c7d"
      },
      "source": [
        "# Compiling the model with SGD optimizer and categorical crossentropy loss\n",
        "#lm_model.compile(loss=categorical_crossentropy, optimizer=SGD(learning_rate=0.001), metrics=['accuracy'])\n",
        "\n",
        "#Saves the Best Model Based on Val Loss\n",
        "checkpoint = ModelCheckpoint('best_lm_model.h5', verbose=1, monitor='val_loss',save_best_only=True,  mode='auto')\n",
        "#training the model\n",
        "lm_history = lm_model.fit(X_train_lm, y_train_lm, batch_size=batch_size, epochs=epochs,\n",
        "                          verbose=1, callbacks=[checkpoint], validation_data=(X_test_lm, y_test_lm), shuffle=True)"
      ],
      "execution_count": null,
      "outputs": [
        {
          "output_type": "stream",
          "name": "stdout",
          "text": [
            "Epoch 1/20\n",
            "276/282 [============================>.] - ETA: 0s - loss: 1.3606 - accuracy: 0.4350\n",
            "Epoch 1: val_loss improved from inf to 1.28884, saving model to best_lm_model.h5\n",
            "282/282 [==============================] - 3s 8ms/step - loss: 1.3587 - accuracy: 0.4360 - val_loss: 1.2888 - val_accuracy: 0.4440\n",
            "Epoch 2/20\n",
            "275/282 [============================>.] - ETA: 0s - loss: 1.2454 - accuracy: 0.4911\n",
            "Epoch 2: val_loss improved from 1.28884 to 1.24192, saving model to best_lm_model.h5\n",
            "282/282 [==============================] - 2s 8ms/step - loss: 1.2454 - accuracy: 0.4904 - val_loss: 1.2419 - val_accuracy: 0.4800\n",
            "Epoch 3/20\n",
            "280/282 [============================>.] - ETA: 0s - loss: 1.2086 - accuracy: 0.5136\n",
            "Epoch 3: val_loss improved from 1.24192 to 1.22669, saving model to best_lm_model.h5\n",
            "282/282 [==============================] - 4s 13ms/step - loss: 1.2091 - accuracy: 0.5133 - val_loss: 1.2267 - val_accuracy: 0.4910\n",
            "Epoch 4/20\n",
            "275/282 [============================>.] - ETA: 0s - loss: 1.1849 - accuracy: 0.5275\n",
            "Epoch 4: val_loss improved from 1.22669 to 1.21750, saving model to best_lm_model.h5\n",
            "282/282 [==============================] - 2s 8ms/step - loss: 1.1861 - accuracy: 0.5264 - val_loss: 1.2175 - val_accuracy: 0.4960\n",
            "Epoch 5/20\n",
            "280/282 [============================>.] - ETA: 0s - loss: 1.1671 - accuracy: 0.5358\n",
            "Epoch 5: val_loss improved from 1.21750 to 1.21019, saving model to best_lm_model.h5\n",
            "282/282 [==============================] - 2s 7ms/step - loss: 1.1672 - accuracy: 0.5356 - val_loss: 1.2102 - val_accuracy: 0.5020\n",
            "Epoch 6/20\n",
            "279/282 [============================>.] - ETA: 0s - loss: 1.1513 - accuracy: 0.5409\n",
            "Epoch 6: val_loss improved from 1.21019 to 1.18774, saving model to best_lm_model.h5\n",
            "282/282 [==============================] - 2s 7ms/step - loss: 1.1526 - accuracy: 0.5399 - val_loss: 1.1877 - val_accuracy: 0.5270\n",
            "Epoch 7/20\n",
            "275/282 [============================>.] - ETA: 0s - loss: 1.1391 - accuracy: 0.5503\n",
            "Epoch 7: val_loss improved from 1.18774 to 1.18473, saving model to best_lm_model.h5\n",
            "282/282 [==============================] - 3s 9ms/step - loss: 1.1387 - accuracy: 0.5504 - val_loss: 1.1847 - val_accuracy: 0.5170\n",
            "Epoch 8/20\n",
            "275/282 [============================>.] - ETA: 0s - loss: 1.1262 - accuracy: 0.5551\n",
            "Epoch 8: val_loss improved from 1.18473 to 1.17440, saving model to best_lm_model.h5\n",
            "282/282 [==============================] - 3s 12ms/step - loss: 1.1269 - accuracy: 0.5549 - val_loss: 1.1744 - val_accuracy: 0.5305\n",
            "Epoch 9/20\n",
            "273/282 [============================>.] - ETA: 0s - loss: 1.1175 - accuracy: 0.5588\n",
            "Epoch 9: val_loss did not improve from 1.17440\n",
            "282/282 [==============================] - 2s 6ms/step - loss: 1.1176 - accuracy: 0.5593 - val_loss: 1.1755 - val_accuracy: 0.5300\n",
            "Epoch 10/20\n",
            "279/282 [============================>.] - ETA: 0s - loss: 1.1094 - accuracy: 0.5581\n",
            "Epoch 10: val_loss improved from 1.17440 to 1.16839, saving model to best_lm_model.h5\n",
            "282/282 [==============================] - 2s 8ms/step - loss: 1.1090 - accuracy: 0.5585 - val_loss: 1.1684 - val_accuracy: 0.5285\n",
            "Epoch 11/20\n",
            "275/282 [============================>.] - ETA: 0s - loss: 1.0997 - accuracy: 0.5674\n",
            "Epoch 11: val_loss did not improve from 1.16839\n",
            "282/282 [==============================] - 2s 6ms/step - loss: 1.0995 - accuracy: 0.5682 - val_loss: 1.1773 - val_accuracy: 0.5285\n",
            "Epoch 12/20\n",
            "278/282 [============================>.] - ETA: 0s - loss: 1.0926 - accuracy: 0.5709\n",
            "Epoch 12: val_loss improved from 1.16839 to 1.16519, saving model to best_lm_model.h5\n",
            "282/282 [==============================] - 2s 8ms/step - loss: 1.0926 - accuracy: 0.5710 - val_loss: 1.1652 - val_accuracy: 0.5305\n",
            "Epoch 13/20\n",
            "274/282 [============================>.] - ETA: 0s - loss: 1.0865 - accuracy: 0.5724\n",
            "Epoch 13: val_loss improved from 1.16519 to 1.15803, saving model to best_lm_model.h5\n",
            "282/282 [==============================] - 2s 9ms/step - loss: 1.0853 - accuracy: 0.5732 - val_loss: 1.1580 - val_accuracy: 0.5270\n",
            "Epoch 14/20\n",
            "277/282 [============================>.] - ETA: 0s - loss: 1.0799 - accuracy: 0.5746\n",
            "Epoch 14: val_loss did not improve from 1.15803\n",
            "282/282 [==============================] - 2s 6ms/step - loss: 1.0774 - accuracy: 0.5757 - val_loss: 1.1602 - val_accuracy: 0.5295\n",
            "Epoch 15/20\n",
            "274/282 [============================>.] - ETA: 0s - loss: 1.0706 - accuracy: 0.5789\n",
            "Epoch 15: val_loss improved from 1.15803 to 1.15698, saving model to best_lm_model.h5\n",
            "282/282 [==============================] - 2s 7ms/step - loss: 1.0716 - accuracy: 0.5788 - val_loss: 1.1570 - val_accuracy: 0.5325\n",
            "Epoch 16/20\n",
            "282/282 [==============================] - ETA: 0s - loss: 1.0651 - accuracy: 0.5812\n",
            "Epoch 16: val_loss did not improve from 1.15698\n",
            "282/282 [==============================] - 2s 6ms/step - loss: 1.0651 - accuracy: 0.5812 - val_loss: 1.1633 - val_accuracy: 0.5315\n",
            "Epoch 17/20\n",
            "275/282 [============================>.] - ETA: 0s - loss: 1.0595 - accuracy: 0.5835\n",
            "Epoch 17: val_loss did not improve from 1.15698\n",
            "282/282 [==============================] - 2s 6ms/step - loss: 1.0587 - accuracy: 0.5837 - val_loss: 1.1587 - val_accuracy: 0.5315\n",
            "Epoch 18/20\n",
            "276/282 [============================>.] - ETA: 0s - loss: 1.0531 - accuracy: 0.5900\n",
            "Epoch 18: val_loss improved from 1.15698 to 1.14662, saving model to best_lm_model.h5\n",
            "282/282 [==============================] - 2s 7ms/step - loss: 1.0527 - accuracy: 0.5902 - val_loss: 1.1466 - val_accuracy: 0.5360\n",
            "Epoch 19/20\n",
            "277/282 [============================>.] - ETA: 0s - loss: 1.0475 - accuracy: 0.5888\n",
            "Epoch 19: val_loss did not improve from 1.14662\n",
            "282/282 [==============================] - 2s 7ms/step - loss: 1.0478 - accuracy: 0.5889 - val_loss: 1.1544 - val_accuracy: 0.5370\n",
            "Epoch 20/20\n",
            "273/282 [============================>.] - ETA: 0s - loss: 1.0419 - accuracy: 0.5929\n",
            "Epoch 20: val_loss did not improve from 1.14662\n",
            "282/282 [==============================] - 2s 7ms/step - loss: 1.0416 - accuracy: 0.5928 - val_loss: 1.1473 - val_accuracy: 0.5370\n"
          ]
        }
      ]
    },
    {
      "cell_type": "markdown",
      "metadata": {
        "id": "Xb2ruZoq1YPO"
      },
      "source": [
        "### Evaluate model"
      ]
    },
    {
      "cell_type": "code",
      "metadata": {
        "id": "IBOe-N6NgQag"
      },
      "source": [
        "# YOUR CODE HERE\n",
        "lm_performance = lm_model.evaluate(X_test_lm, y_test_lm, batch_size=64)"
      ],
      "execution_count": null,
      "outputs": []
    },
    {
      "cell_type": "markdown",
      "metadata": {
        "id": "yj3XDT2eu31x"
      },
      "source": [
        "###Visualize accuracy and loss over training + display best model's performance"
      ]
    },
    {
      "cell_type": "code",
      "metadata": {
        "id": "kG1V_8AIs9Xf"
      },
      "source": [
        "# YOUR CODE HERE\n",
        "plot_graphs(lm_history, lm_performance);"
      ],
      "execution_count": null,
      "outputs": []
    },
    {
      "cell_type": "markdown",
      "metadata": {
        "id": "1Xk6GHxUgiY6"
      },
      "source": [
        "## Instructor-Led Discussion\n",
        "\n",
        "What are some differences between the our pixel input model and our distance input model?"
      ]
    },
    {
      "cell_type": "markdown",
      "metadata": {
        "id": "lX9zvfvrAtrj"
      },
      "source": [
        "#Convolutional Neural Networks for Emotion Detection!"
      ]
    },
    {
      "cell_type": "markdown",
      "metadata": {
        "id": "jXuDr1x1CZYP"
      },
      "source": [
        "###Model Hyperparameters"
      ]
    },
    {
      "cell_type": "code",
      "metadata": {
        "id": "OvPqbBy8Cc1G"
      },
      "source": [
        "# we'll use the same epochs and batch size as above\n",
        "width, height = 48, 48"
      ],
      "execution_count": null,
      "outputs": []
    },
    {
      "cell_type": "markdown",
      "metadata": {
        "id": "wTH-IlrL0HVE"
      },
      "source": [
        "###Reshape the inputs"
      ]
    },
    {
      "cell_type": "code",
      "metadata": {
        "id": "DwTlyCBk6FOd"
      },
      "source": [
        "# pixels were vectors\n",
        "print(X_train.shape)"
      ],
      "execution_count": null,
      "outputs": []
    },
    {
      "cell_type": "code",
      "metadata": {
        "id": "NNSP1-vz6Lnk"
      },
      "source": [
        "X_train_cnn = X_train.reshape(len(X_train),height,width)\n",
        "X_test_cnn = X_test.reshape(len(X_test),height,width)\n",
        "\n",
        "# we've converted them to images\n",
        "print(X_train_cnn.shape)\n",
        "# now we add one more dimension for model compatibility\n",
        "print(X_test_cnn.shape)\n"
      ],
      "execution_count": null,
      "outputs": []
    },
    {
      "cell_type": "code",
      "metadata": {
        "id": "RFP5S57i69o7"
      },
      "source": [
        "# now we add one more dimension for model compatibility\n",
        "X_train_cnn = np.expand_dims(X_train_cnn,3)\n",
        "X_test_cnn = np.expand_dims(X_test_cnn,3)\n",
        "\n",
        "print(X_train_cnn.shape)"
      ],
      "execution_count": null,
      "outputs": []
    },
    {
      "cell_type": "markdown",
      "source": [
        "### Build our model\n",
        "Change the hyperparameters in the model below and feel free to add more layers!"
      ],
      "metadata": {
        "id": "RkGSeDG9vwho"
      }
    },
    {
      "cell_type": "code",
      "metadata": {
        "id": "fnI75Z1yDylH",
        "cellView": "both"
      },
      "source": [
        "# initialize model\n",
        "cnn_model = Sequential()\n",
        "# this conv layer has 64 filters! the input shape needs to be the same dimensions of the image\n",
        "cnn_model.add(Conv2D(64, kernel_size=(3, 3), activation='relu', input_shape=(width, height, 1)))\n",
        "# batch normalization\n",
        "cnn_model.add(BatchNormalization())\n",
        "# max pooling\n",
        "cnn_model.add(MaxPooling2D(pool_size=(2, 2), strides=(2, 2)))\n",
        "# dropout\n",
        "cnn_model.add(Dropout(0.5))\n",
        "\n",
        "#YOUR CODE HERE\n",
        "cnn_model.add(Conv2D(128, kernel_size=(3, 3), activation='relu', input_shape=(width, height, 1)))\n",
        "cnn_model.add(BatchNormalization())\n",
        "cnn_model.add(MaxPooling2D(pool_size=(2, 2), strides=(2, 2)))\n",
        "cnn_model.add(Dropout(0.5))\n",
        "\n",
        "\n",
        "cnn_model.add(Conv2D(256, kernel_size=(3, 3), activation='relu', input_shape=(width, height, 1)))\n",
        "cnn_model.add(BatchNormalization())\n",
        "cnn_model.add(MaxPooling2D(pool_size=(2, 2), strides=(2, 2)))\n",
        "cnn_model.add(Dropout(0.5))\n",
        "\n",
        "\n",
        "cnn_model.add(Conv2D(512, kernel_size=(3, 3), activation='relu', input_shape=(width, height, 1)))\n",
        "cnn_model.add(BatchNormalization())\n",
        "cnn_model.add(MaxPooling2D(pool_size=(2, 2), strides=(2, 2)))\n",
        "cnn_model.add(Dropout(0.5))\n",
        "\n",
        "\n",
        "\n",
        "\n",
        "\n",
        "#YOUR CODE HERE\n",
        "#YOUR CODE HERE\n",
        "#YOUR CODE HERE\n",
        "############### ADD MORE LAYERS\n",
        "#YOUR CODE HERE\n",
        "#YOUR CODE HERE\n",
        "#YOUR CODE HERE\n",
        "#YOUR CODE HERE\n",
        "\n",
        "# flatten all the outputs between convolutional and dense layers\n",
        "cnn_model.add(Flatten())\n",
        "# add a \"dense layer\" (i.e. the fully connected layers in MLPs) with dropout\n",
        "cnn_model.add(Dense(512, activation='relu'))\n",
        "cnn_model.add(Dropout(0.5))\n",
        "\n",
        "cnn_model.add(Dense(256, activation='relu'))\n",
        "cnn_model.add(Dropout(0.5))\n",
        "\n",
        "cnn_model.add(Dense(128, activation='relu'))\n",
        "cnn_model.add(Dropout(0.5))\n",
        "# output layer\n",
        "cnn_model.add(Dense(n_labels, activation='softmax'))"
      ],
      "execution_count": null,
      "outputs": []
    },
    {
      "cell_type": "code",
      "metadata": {
        "id": "YqirnWL8wDGR"
      },
      "source": [
        "#Saves the Best Model Based on Val Loss\n",
        "checkpoint = ModelCheckpoint('best_cnn_model.h5', verbose=1, monitor='val_loss',save_best_only=True, mode='auto')\n",
        "\n",
        "# compliling the model with adam optimizer and categorical crossentropy loss\n",
        "cnn_model.compile(loss=categorical_crossentropy, optimizer=Adam(learning_rate=0.001, beta_1=0.9, beta_2=0.999), metrics=['accuracy'])\n",
        "\n",
        "# training the model\n",
        "cnn_history = cnn_model.fit(X_train_cnn, y_train, batch_size=batch_size, epochs=epochs, verbose=1,\n",
        "                            callbacks=[checkpoint], validation_data=(X_test_cnn, y_test), shuffle=True)"
      ],
      "execution_count": null,
      "outputs": []
    },
    {
      "cell_type": "markdown",
      "metadata": {
        "id": "wXprpaHpxVb-"
      },
      "source": [
        "###Evaluate the model"
      ]
    },
    {
      "cell_type": "code",
      "metadata": {
        "id": "JvCbnwZ_CBYv"
      },
      "source": [
        "cnn_performance = cnn.model.evaluate(X_test_cnn, y_test, batch_size=64)"
      ],
      "execution_count": null,
      "outputs": []
    },
    {
      "cell_type": "markdown",
      "metadata": {
        "id": "cDmHi_05BKnr"
      },
      "source": [
        "###Plot Accuracy and Loss"
      ]
    },
    {
      "cell_type": "code",
      "metadata": {
        "id": "YdRZz5w2ixwO"
      },
      "source": [
        "# YOUR CODE HERE\n",
        "plot_graphs(cnn_history,cnn_performance)"
      ],
      "execution_count": null,
      "outputs": []
    },
    {
      "cell_type": "markdown",
      "metadata": {
        "id": "hzLSZVH0jdG0"
      },
      "source": [
        "## Instructor-Led Discussion\n",
        "\n",
        "How does this model compare with the others? Did this perform as well as we wanted it to? What might be some of the reasons why?"
      ]
    },
    {
      "cell_type": "markdown",
      "metadata": {
        "id": "_eqKTSlRmEGF"
      },
      "source": [
        "#Transfer Learning"
      ]
    },
    {
      "cell_type": "code",
      "metadata": {
        "id": "OPpE58jJmIdY"
      },
      "source": [
        "#@title Run this to build your transfer learning model { display-mode: \"form\" }\n",
        "\n",
        "import keras\n",
        "from keras.models import Sequential\n",
        "from keras.layers import Activation, MaxPooling2D, Dropout, Flatten, Reshape, Dense, Conv2D, GlobalAveragePooling2D\n",
        "from keras.wrappers.scikit_learn import KerasClassifier\n",
        "from keras.applications.vgg16 import VGG16\n",
        "\n",
        "# load the vgg network that is an 'expert' at 'imagenet' but do not include the FC layers\n",
        "vgg_expert = VGG16(weights = 'imagenet', include_top = False, input_shape = (48, 48, 3))\n",
        "\n",
        "# we add the first 12 layers of vgg to our own model vgg_model\n",
        "vgg_model = Sequential()\n",
        "vgg_model.add(vgg_expert)\n",
        "\n",
        "# and then add our own layers on top of it\n",
        "vgg_model.add(GlobalAveragePooling2D())\n",
        "vgg_model.add(Dense(1024, activation = 'relu'))\n",
        "vgg_model.add(Dropout(0.3))\n",
        "vgg_model.add(Dense(512, activation = 'relu'))\n",
        "vgg_model.add(Dropout(0.3))\n",
        "vgg_model.add(Dense(5, activation = 'sigmoid'))\n",
        "\n",
        "# finally, we build the vgg model and turn it on so we can use it!\n",
        "vgg_model.compile(loss = 'categorical_crossentropy',\n",
        "          optimizer = SGD(learning_rate=1e-4, momentum=0.95),\n",
        "          metrics=['accuracy'])\n",
        "\n",
        "X_TRAIN = np.array([np.transpose(np.array([X_train_cnn[ix].squeeze() for i in range(3)]), (1,2,0)) for ix in range(len(X_train))])\n",
        "X_TEST = np.array([np.transpose(np.array([X_test_cnn[ix].squeeze() for i in range(3)]), (1,2,0)) for ix in range(len(X_test))])\n",
        "\n",
        "#training the model\n",
        "vgg_history = vgg_model.fit(X_TRAIN, y_train,\n",
        "          batch_size=batch_size,\n",
        "          epochs=epochs,\n",
        "          verbose=1,\n",
        "          callbacks=[checkpoint],\n",
        "          validation_data=(X_TEST, y_test),\n",
        "          shuffle=True)"
      ],
      "execution_count": null,
      "outputs": []
    },
    {
      "cell_type": "markdown",
      "metadata": {
        "id": "rwABV9sHAclF"
      },
      "source": [
        "###Evaluate model"
      ]
    },
    {
      "cell_type": "code",
      "metadata": {
        "id": "5RbEG39NopT9"
      },
      "source": [
        "# YOUR CODE HERE"
      ],
      "execution_count": null,
      "outputs": []
    },
    {
      "cell_type": "markdown",
      "metadata": {
        "id": "EjquMpMmAZEo"
      },
      "source": [
        "###Visualize accuracy and loss over training + display best model's performance"
      ]
    },
    {
      "cell_type": "code",
      "metadata": {
        "id": "OflGd8RFsrTX"
      },
      "source": [
        "# YOUR CODE HERE"
      ],
      "execution_count": null,
      "outputs": []
    },
    {
      "cell_type": "code",
      "metadata": {
        "id": "60FJChkPc7iY"
      },
      "source": [
        "compare_learning(mlp_history, lm_history, cnn_history, vgg_history)"
      ],
      "execution_count": null,
      "outputs": []
    },
    {
      "cell_type": "markdown",
      "source": [
        "### Save Model for App Development"
      ],
      "metadata": {
        "id": "f4lP84Oat1GF"
      }
    },
    {
      "cell_type": "code",
      "source": [
        "from google.colab import drive\n",
        "drive.mount('/content/gdrive')\n",
        "save_path = F\"/content/gdrive/My Drive/cnn_model.zip\"\n",
        "\n",
        "tf.keras.models.save_model(cnn_model,'cnn_model')\n",
        "import zipfile\n",
        "\n",
        "import os\n",
        "import zipfile\n",
        "\n",
        "def zipdir(path, ziph):\n",
        "    for root, dirs, files in os.walk(path):\n",
        "        for file in files:\n",
        "            ziph.write(os.path.join(root, file))\n",
        "\n",
        "\n",
        "zipf = zipfile.ZipFile(save_path, 'w', zipfile.ZIP_DEFLATED)\n",
        "zipdir('cnn_model', zipf)\n",
        "zipf.close()"
      ],
      "metadata": {
        "id": "kRBgpDLLt48t"
      },
      "execution_count": null,
      "outputs": []
    },
    {
      "cell_type": "markdown",
      "metadata": {
        "id": "y2qlLKUhfxlw"
      },
      "source": [
        "## Optional Instructor Appendix: Code to determine some reference accuracy scores"
      ]
    },
    {
      "cell_type": "code",
      "metadata": {
        "id": "pom2p1w0a9f0"
      },
      "source": [
        "from sklearn.neighbors import KNeighborsClassifier\n",
        "\n",
        "# pixel-based knn classification accuracy... this will take a few minutes\n",
        "knn_pixel = KNeighborsClassifier(n_neighbors=3)\n",
        "knn_pixel.fit(X_train, y_train)\n",
        "knn_predictions_pixel = knn_pixel.predict(X_test)\n",
        "knn_accuracy_pixel = np.mean(knn_predictions_pixel.argmax(1) == y_test.argmax(1))\n",
        "\n",
        "# landmark-based knn classification accuracy... this will take a few minutes\n",
        "knn_lm = KNeighborsClassifier(n_neighbors=3)\n",
        "knn_lm.fit(X_train_lm, y_train_lm)\n",
        "knn_predictions_lm = knn_lm.predict(X_test_lm)\n",
        "knn_accuracy_lm = np.mean( knn_predictions_lm.argmax(1) == y_test_lm.argmax(1))\n",
        "\n",
        "# chance accuracy\n",
        "chance_accuracy = 1/n_labels\n",
        "\n",
        "# human accuracy\n",
        "human_accuracy = .65"
      ],
      "execution_count": null,
      "outputs": []
    },
    {
      "cell_type": "code",
      "metadata": {
        "id": "ZGeWzybl_Kpi"
      },
      "source": [
        "def compare_learning(mlp, lm, cnn, vgg, benchmarks):\n",
        "\n",
        "  plt.figure(figsize=[7, 5])\n",
        "\n",
        "  # summarize history for accuracy\n",
        "\n",
        "  plt.xticks(range(4, epochs+1,5), range(5, epochs+1,5) )\n",
        "\n",
        "  plt.title('Performance of multiple models across training', y=1.05, fontsize=15)\n",
        "\n",
        "  plt.ylim([.15, .72])\n",
        "\n",
        "  plt.plot(lm.history['val_accuracy'], linestyle='-', color='purple', )\n",
        "  plt.plot(mlp.history['val_accuracy'], linestyle='--', color='purple')\n",
        "\n",
        "  plt.plot(vgg.history['val_accuracy'],color='blue', linestyle='-', linewidth=2)\n",
        "  plt.plot(cnn.history['val_accuracy'],color='red', linestyle='-', linewidth=2)\n",
        "\n",
        "  plt.ylabel('Accuracy', fontsize=15)\n",
        "  plt.xlabel('Training Epoch', fontsize=15)\n",
        "\n",
        "\n",
        "  plt.legend(['MLP''$_{landmarks}$', 'MLP''$_{pixels}$', 'CNN''$_{pretrained}$', 'CNN''$_{from.scratch}$'],\n",
        "             framealpha=0, title_fontsize=9,loc=8)\n",
        "\n",
        "  plt.xticks(range(4, epochs+1,5), range(5, epochs+1,5) )\n",
        "  plt.ylim([.11, .72])\n",
        "\n",
        "  for i_benchmark in benchmarks:\n",
        "    plt.scatter(x=epochs, y=references[i_benchmark], color='black', marker='_', s=200)\n",
        "    plt.annotate('%s: %d%%'%( i_benchmark, references[i_benchmark] *100), xy=(epochs+1, references[i_benchmark]-.005), size=10, color='black', ha='left')\n",
        "  plt.annotate('Important References', xy=(epochs+.5, .69), size=10, color='black', ha='left', fontweight='bold')\n",
        "\n",
        "  plt.ylim([.11, .72])\n",
        "  plt.gca().spines['right'].set_color('none')\n",
        "  plt.gca().spines['top'].set_color('none')\n",
        "\n",
        "  plt.show()"
      ],
      "execution_count": null,
      "outputs": []
    },
    {
      "cell_type": "code",
      "metadata": {
        "id": "TgWZro30q0dt"
      },
      "source": [
        "references = {'$KNN_{pixel}$ Accuracy': knn_accuracy_pixel, '$KNN_{landmark}$ Accuracy': knn_accuracy_lm, 'Human Accuracy': human_accuracy, 'chance': chance_accuracy}"
      ],
      "execution_count": null,
      "outputs": []
    },
    {
      "cell_type": "code",
      "metadata": {
        "id": "A-V2HVMOGRZ-"
      },
      "source": [
        "compare_learning(mlp_history, lm_history, cnn_history, vgg_history, references)"
      ],
      "execution_count": null,
      "outputs": []
    },
    {
      "cell_type": "markdown",
      "metadata": {
        "id": "-kmm2fWDBtfW"
      },
      "source": [
        "##How can we explain this pattern of performance across all these models?"
      ]
    },
    {
      "cell_type": "markdown",
      "metadata": {
        "id": "SRW9UiFbBoAK"
      },
      "source": [
        "# Finished :D"
      ]
    }
  ]
}